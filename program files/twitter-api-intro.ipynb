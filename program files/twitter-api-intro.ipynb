{
 "cells": [
  {
   "cell_type": "markdown",
   "id": "2ca97a60",
   "metadata": {},
   "source": [
    "### Using the Twitter API through the tweepy access library\n",
    "\n",
    "In this notebook, details about how to perform various operations using the twitter api have been covered.\n",
    ">The step by step approach to getting the api setup and using it for diverse functions."
   ]
  },
  {
   "cell_type": "markdown",
   "id": "3a403eb9",
   "metadata": {},
   "source": [
    "### Signing up for the API\n",
    "\n",
    "The first things to do are:\n",
    "- Sign up for the twitter developer account\n",
    "- Get elevated access\n",
    "- Create an app on the account and generate your api key, and secret. \n",
    "- Generate your access token and secret as well"
   ]
  },
  {
   "cell_type": "markdown",
   "id": "71965a01",
   "metadata": {},
   "source": [
    "### Setting up the API\n",
    "\n",
    "To set up the API, perform the following simple operations:\n",
    "\n",
    "- import tweepy (if you haven't a;ready installed it, use 'pip install tweepy' in your command line terminal to do so)\n",
    "- in your notebook or code editor, enter your api key, the secret and your aces token and secret.\n",
    ">NOTE that the key and secret are analogous to your api username and password, and the acces token is also analogous to the username and password to gain access.\n",
    "#### Steps\n",
    "- 1. **Get Authorisation**\n",
    ">To proceed with using the API, you must tell twitter that you have an account with the twitter API (more like a log in)\n",
    "- 2. **Get Access**\n",
    ">Now you'll need access to the API using your acees token, saying oh hey i'm a legitimate user with this clearance level.\n",
    "- 3. **Call the API**\n",
    ">Its more like instantiation of a python class. You create your instance of the **API** that answers to your access and login credentials\n",
    "- 4. **Start Doing Stuff**\n",
    ">At this point, you are fully in. You can start performing any operation you like on twitter."
   ]
  },
  {
   "cell_type": "code",
   "execution_count": 9,
   "id": "617b23dd",
   "metadata": {},
   "outputs": [],
   "source": [
    "import tweepy"
   ]
  },
  {
   "cell_type": "code",
   "execution_count": 10,
   "id": "2bb62b8e",
   "metadata": {},
   "outputs": [],
   "source": [
    "# define the keys and tokens needed\n",
    "consumer_key = 'ZdJ4w0fmCPVm1l4HhMLsk2Q7e'\n",
    "consumer_key_secret ='5Z147l29MXZgQY7OExPpHrmTS22LwOhyZxGlNa8Z3T71Q0KPgM'\n",
    "\n",
    "access_token = '1476218855655723012-2saM6kRN7kD6abegPAKUdkwY5IEV82'\n",
    "access_token_secret = 'UeNosV2sCd78oTHsxEerSFPoHKDTvB5c1RiPBeWg4omqW'"
   ]
  },
  {
   "cell_type": "code",
   "execution_count": 11,
   "id": "29f9648b",
   "metadata": {},
   "outputs": [],
   "source": [
    "# get authorisation using the customer keys and secret\n",
    "auth = tweepy.OAuthHandler(consumer_key, consumer_key_secret)\n",
    "\n",
    "# get access using the access tokens\n",
    "auth.set_access_token(access_token, access_token_secret)"
   ]
  },
  {
   "cell_type": "code",
   "execution_count": 12,
   "id": "501baa9f",
   "metadata": {},
   "outputs": [],
   "source": [
    "# call the API\n",
    "api = tweepy.API(auth)"
   ]
  },
  {
   "cell_type": "markdown",
   "id": "d9e2ce0f",
   "metadata": {},
   "source": [
    "#### DO stuff\n",
    "**Find the tweet text and the source of the tweet**"
   ]
  },
  {
   "cell_type": "code",
   "execution_count": 16,
   "id": "a2895f0a",
   "metadata": {},
   "outputs": [],
   "source": [
    "# start doing anything i want using my twitter\n",
    "# lets get the status of a tweet by alabi\n",
    "tweet_id = 1542945350763298816\n",
    "status = api.get_status(tweet_id)"
   ]
  },
  {
   "cell_type": "code",
   "execution_count": 17,
   "id": "7b30fe90",
   "metadata": {},
   "outputs": [
    {
     "name": "stdout",
     "output_type": "stream",
     "text": [
      "My Grace said i should trample upon my enemies with the AMALFI BLACK BOX 😍😍😍😍😍😍 https://t.co/smqsqw9uyW \n",
      " Twitter for iPhone\n"
     ]
    }
   ],
   "source": [
    "print(status.text, '\\n', status.source)"
   ]
  },
  {
   "cell_type": "markdown",
   "id": "32a1a3bd",
   "metadata": {},
   "source": [
    "### Process flow\n",
    ">We need the **tweet id** to retrieve info on the tweet\n",
    "\n",
    ">We  need **status** to get the content of that info before we can select what ever to fetch from it"
   ]
  },
  {
   "cell_type": "markdown",
   "id": "a2324514",
   "metadata": {},
   "source": [
    "## `Terms`\n",
    "- **Status** Tells us all about the tweet, all info contained. to get the status of a tweet, use **`api.get_status(tweet_id)`**\n",
    ">status gets us the status oobject of a particular tweet\n",
    "- **Source** Says where the tweet was posted from .eg. Twitter for iPhone. TO find status of a tweet, use **`api.get_status(tweet_id).source`**\n",
    "- **Text** Shows us the text written by the user. TO get the tex, use: **`api.get_status(tweet_id).text`** or **`api.get_status(tweet_id).full_text`**\n",
    "- **User** Tells us about a particular user. Their public info. To get sser info, use: **`api.get_user(user_id=user_id)`** OR use their screen name *(their @handle)* **`api.get_user(screen_name=screen_name)`**\n",
    ">provides the user object to us"
   ]
  },
  {
   "cell_type": "markdown",
   "id": "b5d28417",
   "metadata": {},
   "source": [
    "### Using `tweet_mode = extended`\n",
    ">We use `tweet_mode = extended` to fetch the full tweet text that the user made.\n",
    "- `api = tweepy.API(auth)`\n",
    "- `status = api.get_status(tweet_id, tweet_mode = 'extended')`\n",
    "\n",
    ">Afterwards, we would fetch the text using\n",
    "- `text = status.full_text`"
   ]
  },
  {
   "cell_type": "code",
   "execution_count": 22,
   "id": "540ba8b1",
   "metadata": {},
   "outputs": [
    {
     "data": {
      "text/plain": [
       "'My Grace said i should trample upon my enemies with the AMALFI BLACK BOX 😍😍😍😍😍😍 https://t.co/smqsqw9uyW'"
      ]
     },
     "execution_count": 22,
     "metadata": {},
     "output_type": "execute_result"
    }
   ],
   "source": [
    "# example \n",
    "user_status = api.get_status(tweet_id, tweet_mode='extended')\n",
    "user_status.full_text"
   ]
  },
  {
   "cell_type": "markdown",
   "id": "e77d9600",
   "metadata": {},
   "source": [
    "#### DO Stuff\n",
    "**Find the date the tweet was created**"
   ]
  },
  {
   "cell_type": "code",
   "execution_count": 21,
   "id": "c1e97b9f",
   "metadata": {},
   "outputs": [
    {
     "name": "stdout",
     "output_type": "stream",
     "text": [
      "This tweet:  My Grace said i should trample upon my enemies with the AMALFI BLACK BOX 😍😍😍😍😍😍 https://t.co/smqsqw9uyW  was created at  2022-07-01 18:56:52+00:00  from  Twitter for iPhone\n"
     ]
    }
   ],
   "source": [
    "status = api.get_status(tweet_id)\n",
    "date = status.created_at\n",
    "print('This tweet: ', status.text, ' was created at ', status.created_at, ' from ', status.source)"
   ]
  },
  {
   "cell_type": "markdown",
   "id": "bbd53bab",
   "metadata": {},
   "source": [
    "#### Do Stuff\n",
    "**Find the language a tweet was made**\n"
   ]
  },
  {
   "cell_type": "code",
   "execution_count": 23,
   "id": "c30805e1",
   "metadata": {},
   "outputs": [
    {
     "name": "stdout",
     "output_type": "stream",
     "text": [
      "This tweet is written in  en\n"
     ]
    }
   ],
   "source": [
    "language = status.lang\n",
    "print('This tweet is written in ', language)"
   ]
  },
  {
   "cell_type": "markdown",
   "id": "c5d22157",
   "metadata": {},
   "source": [
    "#### Do Stuff\n",
    "**Check whether a tweet has been liked/ favorited by the owner of the tweet**"
   ]
  },
  {
   "cell_type": "code",
   "execution_count": 28,
   "id": "9ceba4cb",
   "metadata": {},
   "outputs": [
    {
     "name": "stdout",
     "output_type": "stream",
     "text": [
      "Ooops The user hasn't liked the tweet yet\n"
     ]
    }
   ],
   "source": [
    "like = status.favorited\n",
    "# like\n",
    "if like is False:\n",
    "    print(\"Ooops The user hasn't liked the tweet yet\")"
   ]
  },
  {
   "cell_type": "code",
   "execution_count": 30,
   "id": "f4aed0c7",
   "metadata": {},
   "outputs": [
    {
     "data": {
      "text/plain": [
       "5822"
      ]
     },
     "execution_count": 30,
     "metadata": {},
     "output_type": "execute_result"
    }
   ],
   "source": [
    "like_count = status.favorite_count\n",
    "like_count"
   ]
  },
  {
   "cell_type": "markdown",
   "id": "0c58f316",
   "metadata": {},
   "source": [
    "### Extended demonstration"
   ]
  },
  {
   "cell_type": "code",
   "execution_count": 48,
   "id": "6edf3d12",
   "metadata": {},
   "outputs": [],
   "source": [
    "davido_tweet = '1524058578780397570'\n",
    "david = api.get_status(davido_tweet, tweet_mode = 'extended')"
   ]
  },
  {
   "cell_type": "code",
   "execution_count": 49,
   "id": "727f1296",
   "metadata": {},
   "outputs": [
    {
     "ename": "AttributeError",
     "evalue": "'Status' object has no attribute 'text'",
     "output_type": "error",
     "traceback": [
      "\u001b[1;31m---------------------------------------------------------------------------\u001b[0m",
      "\u001b[1;31mAttributeError\u001b[0m                            Traceback (most recent call last)",
      "\u001b[1;32m~\\AppData\\Local\\Temp/ipykernel_10688/3744075735.py\u001b[0m in \u001b[0;36m<module>\u001b[1;34m\u001b[0m\n\u001b[1;32m----> 1\u001b[1;33m \u001b[0mdavid\u001b[0m\u001b[1;33m.\u001b[0m\u001b[0mtext\u001b[0m\u001b[1;33m\u001b[0m\u001b[1;33m\u001b[0m\u001b[0m\n\u001b[0m",
      "\u001b[1;31mAttributeError\u001b[0m: 'Status' object has no attribute 'text'"
     ]
    }
   ],
   "source": [
    "david.text"
   ]
  },
  {
   "cell_type": "code",
   "execution_count": 50,
   "id": "87d79075",
   "metadata": {},
   "outputs": [
    {
     "data": {
      "text/plain": [
       "'For the first time I want to bring you into the other part of my world. The part where every day is a battle but I have no option but to STAND STRONG. I present to you, the first single off my next album. https://t.co/FCAA8zVFvL'"
      ]
     },
     "execution_count": 50,
     "metadata": {},
     "output_type": "execute_result"
    }
   ],
   "source": [
    "david.full_text"
   ]
  },
  {
   "cell_type": "markdown",
   "id": "54e25800",
   "metadata": {},
   "source": [
    "#### Do Stuff\n",
    "**Checking whether a tweet has been retweeted by the owner**"
   ]
  },
  {
   "cell_type": "code",
   "execution_count": 41,
   "id": "1dc30967",
   "metadata": {},
   "outputs": [
    {
     "data": {
      "text/plain": [
       "False"
      ]
     },
     "execution_count": 41,
     "metadata": {},
     "output_type": "execute_result"
    }
   ],
   "source": [
    "david.retweeted"
   ]
  },
  {
   "cell_type": "code",
   "execution_count": 51,
   "id": "9a28d991",
   "metadata": {},
   "outputs": [
    {
     "data": {
      "text/plain": [
       "16639"
      ]
     },
     "execution_count": 51,
     "metadata": {},
     "output_type": "execute_result"
    }
   ],
   "source": [
    "david.retweet_count"
   ]
  },
  {
   "cell_type": "markdown",
   "id": "d21c86bd",
   "metadata": {},
   "source": [
    "#### Do Stuff\n",
    "\n",
    "**Find the number of lists a user has been added to**"
   ]
  },
  {
   "cell_type": "code",
   "execution_count": 56,
   "id": "5e3e8ece",
   "metadata": {},
   "outputs": [
    {
     "data": {
      "text/plain": [
       "6840"
      ]
     },
     "execution_count": 56,
     "metadata": {},
     "output_type": "execute_result"
    }
   ],
   "source": [
    "# firt get the user info in a user object\n",
    "screen_name = 'davido'\n",
    "user = api.get_user(screen_name=screen_name)\n",
    "\n",
    "# find the numbe rof lists he has been added to \n",
    "user.listed_count"
   ]
  },
  {
   "cell_type": "markdown",
   "id": "1f7350a5",
   "metadata": {},
   "source": [
    "#### How to get friends count of a user or followr count\n"
   ]
  },
  {
   "cell_type": "code",
   "execution_count": 88,
   "id": "77859785",
   "metadata": {},
   "outputs": [
    {
     "data": {
      "text/plain": [
       "1022"
      ]
     },
     "execution_count": 88,
     "metadata": {},
     "output_type": "execute_result"
    }
   ],
   "source": [
    "user.friends_count #the number of accounts he follows"
   ]
  },
  {
   "cell_type": "markdown",
   "id": "b6890ee3",
   "metadata": {},
   "source": [
    "#### Find the location of a user"
   ]
  },
  {
   "cell_type": "code",
   "execution_count": 65,
   "id": "3084a0cf",
   "metadata": {},
   "outputs": [
    {
     "data": {
      "text/plain": [
       "'Lagos, Nigeria'"
      ]
     },
     "execution_count": 65,
     "metadata": {},
     "output_type": "execute_result"
    }
   ],
   "source": [
    "user.location\n",
    "# he location may sometimes be '' just empty meaning the user didn't put it up"
   ]
  },
  {
   "cell_type": "markdown",
   "id": "81099d70",
   "metadata": {},
   "source": [
    "#### Find number of followers a user has"
   ]
  },
  {
   "cell_type": "code",
   "execution_count": 67,
   "id": "02911bc1",
   "metadata": {},
   "outputs": [
    {
     "data": {
      "text/plain": [
       "11762293"
      ]
     },
     "execution_count": 67,
     "metadata": {},
     "output_type": "execute_result"
    }
   ],
   "source": [
    "user.followers_count\n",
    "# different from friends count"
   ]
  },
  {
   "cell_type": "markdown",
   "id": "236c62ac",
   "metadata": {},
   "source": [
    "#### Find number of statuses (tweet) posted by the user"
   ]
  },
  {
   "cell_type": "code",
   "execution_count": 68,
   "id": "b50566d6",
   "metadata": {},
   "outputs": [
    {
     "data": {
      "text/plain": [
       "52607"
      ]
     },
     "execution_count": 68,
     "metadata": {},
     "output_type": "execute_result"
    }
   ],
   "source": [
    "user.statuses_count"
   ]
  },
  {
   "cell_type": "markdown",
   "id": "24a0e76b",
   "metadata": {},
   "source": [
    "### To find the id of a user\n",
    "  "
   ]
  },
  {
   "cell_type": "code",
   "execution_count": 72,
   "id": "045c21d6",
   "metadata": {},
   "outputs": [
    {
     "data": {
      "text/plain": [
       "'192947735'"
      ]
     },
     "execution_count": 72,
     "metadata": {},
     "output_type": "execute_result"
    }
   ],
   "source": [
    "user.id  #for the number form\n",
    "user.id_str #for the string form "
   ]
  },
  {
   "cell_type": "markdown",
   "id": "9c70143c",
   "metadata": {},
   "source": [
    "#### To find the screen_name"
   ]
  },
  {
   "cell_type": "code",
   "execution_count": 77,
   "id": "88a5715d",
   "metadata": {},
   "outputs": [
    {
     "data": {
      "text/plain": [
       "'davido'"
      ]
     },
     "execution_count": 77,
     "metadata": {},
     "output_type": "execute_result"
    }
   ],
   "source": [
    "user1 = api.get_user(user_id='192947735') \n",
    "user1.screen_name"
   ]
  },
  {
   "cell_type": "markdown",
   "id": "d804d6d3",
   "metadata": {},
   "source": [
    "#### Description of a user"
   ]
  },
  {
   "cell_type": "code",
   "execution_count": 81,
   "id": "eb19d385",
   "metadata": {},
   "outputs": [
    {
     "data": {
      "text/plain": [
       "'STAND STRONG OUT NOW! Link below! 📧 inquiries: davido@bfaandcolegal.com'"
      ]
     },
     "execution_count": 81,
     "metadata": {},
     "output_type": "execute_result"
    }
   ],
   "source": [
    "user.description"
   ]
  },
  {
   "cell_type": "markdown",
   "id": "8d0c3fbc",
   "metadata": {},
   "source": [
    "### Date an Account was created"
   ]
  },
  {
   "cell_type": "code",
   "execution_count": 84,
   "id": "9f7d38e3",
   "metadata": {},
   "outputs": [
    {
     "name": "stdout",
     "output_type": "stream",
     "text": [
      "2010-09-20 15:55:08+00:00\n"
     ]
    }
   ],
   "source": [
    "print(user1.created_at)"
   ]
  },
  {
   "cell_type": "markdown",
   "id": "80910ba1",
   "metadata": {},
   "source": [
    "#### Name of the user"
   ]
  },
  {
   "cell_type": "code",
   "execution_count": 85,
   "id": "5c33c52c",
   "metadata": {},
   "outputs": [
    {
     "data": {
      "text/plain": [
       "'Davido'"
      ]
     },
     "execution_count": 85,
     "metadata": {},
     "output_type": "execute_result"
    }
   ],
   "source": [
    "user.name"
   ]
  },
  {
   "cell_type": "markdown",
   "id": "4a635619",
   "metadata": {},
   "source": [
    "### Get user's url\n"
   ]
  },
  {
   "cell_type": "code",
   "execution_count": 86,
   "id": "884ffb49",
   "metadata": {},
   "outputs": [
    {
     "data": {
      "text/plain": [
       "'https://t.co/QD60KhfSzq'"
      ]
     },
     "execution_count": 86,
     "metadata": {},
     "output_type": "execute_result"
    }
   ],
   "source": [
    "user.url"
   ]
  },
  {
   "cell_type": "markdown",
   "id": "a97de170",
   "metadata": {},
   "source": [
    "#### How many times has he liked tweets"
   ]
  },
  {
   "cell_type": "code",
   "execution_count": 87,
   "id": "f8d36df5",
   "metadata": {},
   "outputs": [
    {
     "data": {
      "text/plain": [
       "1140"
      ]
     },
     "execution_count": 87,
     "metadata": {},
     "output_type": "execute_result"
    }
   ],
   "source": [
    "user.favourites_count"
   ]
  },
  {
   "cell_type": "markdown",
   "id": "6360605e",
   "metadata": {},
   "source": [
    "### Getting a specific number of a user's latest tweets\n",
    "\n",
    ">First according to the twitter documentation, you can only get as much as **3000** tweets from a user.\n",
    "\n",
    ">If you want more than that, you'll have to access the **archive** for that account\n",
    "\n",
    "#### In this case, let's get the last 300 tweets from our user\n",
    "\n",
    ">For this, we'll use the command: \n",
    "- **`limit = 300`**\n",
    "- **`tweepy.Cursor(api.user_timeline, screen_name = screen_name, count=200, tweet_mode= 'extemded').items(limit)`**\n",
    "\n",
    ">Notice how the Cursor class just contains what we would have other wise written out normally and assigned to a variable like: **`tweets`**\n",
    "\n",
    "##### See Below"
   ]
  },
  {
   "cell_type": "code",
   "execution_count": 98,
   "id": "10ad24cb",
   "metadata": {},
   "outputs": [
    {
     "data": {
      "text/plain": [
       "20"
      ]
     },
     "execution_count": 98,
     "metadata": {},
     "output_type": "execute_result"
    }
   ],
   "source": [
    "# our user is davido\n",
    "screen_name = 'wizkidayo'\n",
    "tweets = api.user_timeline(screen_name=screen_name, tweet_mode='extended')\n",
    "# for tweet in tweets:\n",
    "#     print(tweet)\n",
    "    \n",
    "# print(len(tweets))\n",
    "tweets"
   ]
  },
  {
   "cell_type": "markdown",
   "id": "a94dc8e5",
   "metadata": {},
   "source": [
    "## issue\n",
    ">Printing out all the tweets as above doesnt give us a good sense of meaning, so we'll make a dataframe to store the time created and the tweet below"
   ]
  },
  {
   "cell_type": "code",
   "execution_count": 102,
   "id": "a6cfd9f9",
   "metadata": {},
   "outputs": [
    {
     "data": {
      "text/html": [
       "<div>\n",
       "<style scoped>\n",
       "    .dataframe tbody tr th:only-of-type {\n",
       "        vertical-align: middle;\n",
       "    }\n",
       "\n",
       "    .dataframe tbody tr th {\n",
       "        vertical-align: top;\n",
       "    }\n",
       "\n",
       "    .dataframe thead th {\n",
       "        text-align: right;\n",
       "    }\n",
       "</style>\n",
       "<table border=\"1\" class=\"dataframe\">\n",
       "  <thead>\n",
       "    <tr style=\"text-align: right;\">\n",
       "      <th></th>\n",
       "      <th>date_posted</th>\n",
       "      <th>tweet</th>\n",
       "    </tr>\n",
       "  </thead>\n",
       "  <tbody>\n",
       "    <tr>\n",
       "      <th>0</th>\n",
       "      <td>2022-07-02 08:45:53+00:00</td>\n",
       "      <td>RT @pattydrewit: “yeah yeah” in @wizkidayo ’s ...</td>\n",
       "    </tr>\n",
       "    <tr>\n",
       "      <th>1</th>\n",
       "      <td>2022-07-01 21:57:49+00:00</td>\n",
       "      <td>Tomorrow!!! @afronation ❤️🖤🦅 https://t.co/0Grj...</td>\n",
       "    </tr>\n",
       "    <tr>\n",
       "      <th>2</th>\n",
       "      <td>2022-06-30 20:27:50+00:00</td>\n",
       "      <td>🌹🦅 https://t.co/ZVNKWHkjwe</td>\n",
       "    </tr>\n",
       "    <tr>\n",
       "      <th>3</th>\n",
       "      <td>2022-06-27 22:31:29+00:00</td>\n",
       "      <td>RT @NativeMag: Big Mood 🦅 @wizkidayo https://t...</td>\n",
       "    </tr>\n",
       "    <tr>\n",
       "      <th>4</th>\n",
       "      <td>2022-06-25 13:24:50+00:00</td>\n",
       "      <td>Rotterdam 🇳🇱 Tonight 10pm https://t.co/Adybh4Mx04</td>\n",
       "    </tr>\n",
       "    <tr>\n",
       "      <th>5</th>\n",
       "      <td>2022-06-24 21:11:58+00:00</td>\n",
       "      <td>⁩Paris 🇫🇷🖤 https://t.co/X1Ek9GSzWh</td>\n",
       "    </tr>\n",
       "    <tr>\n",
       "      <th>6</th>\n",
       "      <td>2022-06-23 20:33:49+00:00</td>\n",
       "      <td>https://t.co/jgzkzTkYol</td>\n",
       "    </tr>\n",
       "    <tr>\n",
       "      <th>7</th>\n",
       "      <td>2022-06-23 10:53:04+00:00</td>\n",
       "      <td>PFW 🇫🇷</td>\n",
       "    </tr>\n",
       "    <tr>\n",
       "      <th>8</th>\n",
       "      <td>2022-06-17 05:27:58+00:00</td>\n",
       "      <td>RT @chrisbrown: “https://t.co/paQa7lXavs”. NEW...</td>\n",
       "    </tr>\n",
       "    <tr>\n",
       "      <th>9</th>\n",
       "      <td>2022-06-16 15:37:14+00:00</td>\n",
       "      <td>Saturday Malta 🇲🇹👀 @DLTBrunch https://t.co/oea...</td>\n",
       "    </tr>\n",
       "    <tr>\n",
       "      <th>10</th>\n",
       "      <td>2022-06-12 11:36:39+00:00</td>\n",
       "      <td>https://t.co/TxfxJ4iThH</td>\n",
       "    </tr>\n",
       "    <tr>\n",
       "      <th>11</th>\n",
       "      <td>2022-06-12 08:22:17+00:00</td>\n",
       "      <td>RT @WizkidSource: .@ChrisBrown teases his coll...</td>\n",
       "    </tr>\n",
       "    <tr>\n",
       "      <th>12</th>\n",
       "      <td>2022-06-12 08:21:13+00:00</td>\n",
       "      <td>Loading ⛔️🌹 https://t.co/HYl5lw227P</td>\n",
       "    </tr>\n",
       "    <tr>\n",
       "      <th>13</th>\n",
       "      <td>2022-06-05 05:09:28+00:00</td>\n",
       "      <td>🦅 https://t.co/mdy8CIabKu</td>\n",
       "    </tr>\n",
       "    <tr>\n",
       "      <th>14</th>\n",
       "      <td>2022-06-05 04:18:24+00:00</td>\n",
       "      <td>Tonight!!! Club Noto @thebt_group @DJ_TUNEZ 🦅♥️🖤</td>\n",
       "    </tr>\n",
       "    <tr>\n",
       "      <th>15</th>\n",
       "      <td>2022-06-04 12:27:12+00:00</td>\n",
       "      <td>Sunday @rootspicnic 🖤♥️🦅 https://t.co/hRFOEX5S4l</td>\n",
       "    </tr>\n",
       "    <tr>\n",
       "      <th>16</th>\n",
       "      <td>2022-06-01 18:29:51+00:00</td>\n",
       "      <td>RT @DJ_TUNEZ: https://t.co/GiQzfbBJVC</td>\n",
       "    </tr>\n",
       "    <tr>\n",
       "      <th>17</th>\n",
       "      <td>2022-05-31 19:06:24+00:00</td>\n",
       "      <td>https://t.co/7LTEpwyp2i</td>\n",
       "    </tr>\n",
       "    <tr>\n",
       "      <th>18</th>\n",
       "      <td>2022-05-30 23:17:16+00:00</td>\n",
       "      <td>Philly this Saturday at Club Noto @thebt_group...</td>\n",
       "    </tr>\n",
       "    <tr>\n",
       "      <th>19</th>\n",
       "      <td>2022-05-22 23:12:44+00:00</td>\n",
       "      <td>RT @DontTrustTheNet: OUT NOW! THE TOP 5 @wizki...</td>\n",
       "    </tr>\n",
       "  </tbody>\n",
       "</table>\n",
       "</div>"
      ],
      "text/plain": [
       "                 date_posted  \\\n",
       "0  2022-07-02 08:45:53+00:00   \n",
       "1  2022-07-01 21:57:49+00:00   \n",
       "2  2022-06-30 20:27:50+00:00   \n",
       "3  2022-06-27 22:31:29+00:00   \n",
       "4  2022-06-25 13:24:50+00:00   \n",
       "5  2022-06-24 21:11:58+00:00   \n",
       "6  2022-06-23 20:33:49+00:00   \n",
       "7  2022-06-23 10:53:04+00:00   \n",
       "8  2022-06-17 05:27:58+00:00   \n",
       "9  2022-06-16 15:37:14+00:00   \n",
       "10 2022-06-12 11:36:39+00:00   \n",
       "11 2022-06-12 08:22:17+00:00   \n",
       "12 2022-06-12 08:21:13+00:00   \n",
       "13 2022-06-05 05:09:28+00:00   \n",
       "14 2022-06-05 04:18:24+00:00   \n",
       "15 2022-06-04 12:27:12+00:00   \n",
       "16 2022-06-01 18:29:51+00:00   \n",
       "17 2022-05-31 19:06:24+00:00   \n",
       "18 2022-05-30 23:17:16+00:00   \n",
       "19 2022-05-22 23:12:44+00:00   \n",
       "\n",
       "                                                tweet  \n",
       "0   RT @pattydrewit: “yeah yeah” in @wizkidayo ’s ...  \n",
       "1   Tomorrow!!! @afronation ❤️🖤🦅 https://t.co/0Grj...  \n",
       "2                          🌹🦅 https://t.co/ZVNKWHkjwe  \n",
       "3   RT @NativeMag: Big Mood 🦅 @wizkidayo https://t...  \n",
       "4   Rotterdam 🇳🇱 Tonight 10pm https://t.co/Adybh4Mx04  \n",
       "5                  ⁩Paris 🇫🇷🖤 https://t.co/X1Ek9GSzWh  \n",
       "6                             https://t.co/jgzkzTkYol  \n",
       "7                                              PFW 🇫🇷  \n",
       "8   RT @chrisbrown: “https://t.co/paQa7lXavs”. NEW...  \n",
       "9   Saturday Malta 🇲🇹👀 @DLTBrunch https://t.co/oea...  \n",
       "10                            https://t.co/TxfxJ4iThH  \n",
       "11  RT @WizkidSource: .@ChrisBrown teases his coll...  \n",
       "12                Loading ⛔️🌹 https://t.co/HYl5lw227P  \n",
       "13                          🦅 https://t.co/mdy8CIabKu  \n",
       "14   Tonight!!! Club Noto @thebt_group @DJ_TUNEZ 🦅♥️🖤  \n",
       "15   Sunday @rootspicnic 🖤♥️🦅 https://t.co/hRFOEX5S4l  \n",
       "16              RT @DJ_TUNEZ: https://t.co/GiQzfbBJVC  \n",
       "17                            https://t.co/7LTEpwyp2i  \n",
       "18  Philly this Saturday at Club Noto @thebt_group...  \n",
       "19  RT @DontTrustTheNet: OUT NOW! THE TOP 5 @wizki...  "
      ]
     },
     "execution_count": 102,
     "metadata": {},
     "output_type": "execute_result"
    }
   ],
   "source": [
    "import pandas as pd\n",
    "listing = []\n",
    "columns = ['date_posted', 'tweet']\n",
    "for tweet in tweets:\n",
    "    listing.append([tweet.created_at, tweet.full_text])\n",
    "\n",
    "df = pd.DataFrame(data=listing, columns = columns)\n",
    "df"
   ]
  },
  {
   "cell_type": "markdown",
   "id": "8c18ae18",
   "metadata": {},
   "source": [
    ">From the above, its obvious that we only received the laast 20 tweets from the user's account.\n",
    "\n",
    ">But we want more, right? we'll specify a limit to ho much we want. Let's start at 100\n"
   ]
  },
  {
   "cell_type": "code",
   "execution_count": 105,
   "id": "31d48c97",
   "metadata": {},
   "outputs": [
    {
     "data": {
      "text/html": [
       "<div>\n",
       "<style scoped>\n",
       "    .dataframe tbody tr th:only-of-type {\n",
       "        vertical-align: middle;\n",
       "    }\n",
       "\n",
       "    .dataframe tbody tr th {\n",
       "        vertical-align: top;\n",
       "    }\n",
       "\n",
       "    .dataframe thead th {\n",
       "        text-align: right;\n",
       "    }\n",
       "</style>\n",
       "<table border=\"1\" class=\"dataframe\">\n",
       "  <thead>\n",
       "    <tr style=\"text-align: right;\">\n",
       "      <th></th>\n",
       "      <th>date_posted</th>\n",
       "      <th>tweet</th>\n",
       "    </tr>\n",
       "  </thead>\n",
       "  <tbody>\n",
       "    <tr>\n",
       "      <th>0</th>\n",
       "      <td>2022-07-02 08:45:53+00:00</td>\n",
       "      <td>RT @pattydrewit: “yeah yeah” in @wizkidayo ’s ...</td>\n",
       "    </tr>\n",
       "    <tr>\n",
       "      <th>1</th>\n",
       "      <td>2022-07-01 21:57:49+00:00</td>\n",
       "      <td>Tomorrow!!! @afronation ❤️🖤🦅 https://t.co/0Grj...</td>\n",
       "    </tr>\n",
       "    <tr>\n",
       "      <th>2</th>\n",
       "      <td>2022-06-30 20:27:50+00:00</td>\n",
       "      <td>🌹🦅 https://t.co/ZVNKWHkjwe</td>\n",
       "    </tr>\n",
       "    <tr>\n",
       "      <th>3</th>\n",
       "      <td>2022-06-27 22:31:29+00:00</td>\n",
       "      <td>RT @NativeMag: Big Mood 🦅 @wizkidayo https://t...</td>\n",
       "    </tr>\n",
       "    <tr>\n",
       "      <th>4</th>\n",
       "      <td>2022-06-25 13:24:50+00:00</td>\n",
       "      <td>Rotterdam 🇳🇱 Tonight 10pm https://t.co/Adybh4Mx04</td>\n",
       "    </tr>\n",
       "    <tr>\n",
       "      <th>...</th>\n",
       "      <td>...</td>\n",
       "      <td>...</td>\n",
       "    </tr>\n",
       "    <tr>\n",
       "      <th>95</th>\n",
       "      <td>2022-02-21 19:03:29+00:00</td>\n",
       "      <td>ASA x BIG WIZ  🦅🤎</td>\n",
       "    </tr>\n",
       "    <tr>\n",
       "      <th>96</th>\n",
       "      <td>2022-02-20 12:58:50+00:00</td>\n",
       "      <td>RT @DJ_TUNEZ: #MMM MONEY YEAR! ❤️💰🔥\\n\\nhttps:/...</td>\n",
       "    </tr>\n",
       "    <tr>\n",
       "      <th>97</th>\n",
       "      <td>2022-02-17 21:04:41+00:00</td>\n",
       "      <td>RT @JulsOnIt: First plaque! First of many! Glo...</td>\n",
       "    </tr>\n",
       "    <tr>\n",
       "      <th>98</th>\n",
       "      <td>2022-02-17 21:01:11+00:00</td>\n",
       "      <td>RT @chartdata: .@wizkidayo and @Bujutoyourears...</td>\n",
       "    </tr>\n",
       "    <tr>\n",
       "      <th>99</th>\n",
       "      <td>2022-02-17 13:29:05+00:00</td>\n",
       "      <td>RT @DJ_TUNEZ: #MMM on @audiomack 🔥🔥🔥\\n\\nhttps:...</td>\n",
       "    </tr>\n",
       "  </tbody>\n",
       "</table>\n",
       "<p>100 rows × 2 columns</p>\n",
       "</div>"
      ],
      "text/plain": [
       "                 date_posted  \\\n",
       "0  2022-07-02 08:45:53+00:00   \n",
       "1  2022-07-01 21:57:49+00:00   \n",
       "2  2022-06-30 20:27:50+00:00   \n",
       "3  2022-06-27 22:31:29+00:00   \n",
       "4  2022-06-25 13:24:50+00:00   \n",
       "..                       ...   \n",
       "95 2022-02-21 19:03:29+00:00   \n",
       "96 2022-02-20 12:58:50+00:00   \n",
       "97 2022-02-17 21:04:41+00:00   \n",
       "98 2022-02-17 21:01:11+00:00   \n",
       "99 2022-02-17 13:29:05+00:00   \n",
       "\n",
       "                                                tweet  \n",
       "0   RT @pattydrewit: “yeah yeah” in @wizkidayo ’s ...  \n",
       "1   Tomorrow!!! @afronation ❤️🖤🦅 https://t.co/0Grj...  \n",
       "2                          🌹🦅 https://t.co/ZVNKWHkjwe  \n",
       "3   RT @NativeMag: Big Mood 🦅 @wizkidayo https://t...  \n",
       "4   Rotterdam 🇳🇱 Tonight 10pm https://t.co/Adybh4Mx04  \n",
       "..                                                ...  \n",
       "95                                  ASA x BIG WIZ  🦅🤎  \n",
       "96  RT @DJ_TUNEZ: #MMM MONEY YEAR! ❤️💰🔥\\n\\nhttps:/...  \n",
       "97  RT @JulsOnIt: First plaque! First of many! Glo...  \n",
       "98  RT @chartdata: .@wizkidayo and @Bujutoyourears...  \n",
       "99  RT @DJ_TUNEZ: #MMM on @audiomack 🔥🔥🔥\\n\\nhttps:...  \n",
       "\n",
       "[100 rows x 2 columns]"
      ]
     },
     "execution_count": 105,
     "metadata": {},
     "output_type": "execute_result"
    }
   ],
   "source": [
    "limit = 100\n",
    "listings=[]\n",
    "tweets = api.user_timeline(screen_name=screen_name, tweet_mode = 'extended', count=limit)\n",
    "for tweet in tweets:\n",
    "    listings.append([tweet.created_at, tweet.full_text])\n",
    "columns=['date_posted', 'tweet']\n",
    "df = pd.DataFrame(data=listings, columns = columns)\n",
    "df"
   ]
  },
  {
   "cell_type": "markdown",
   "id": "1b219b51",
   "metadata": {},
   "source": [
    "### Good!!\n",
    "> Now we have a 100 tweets, but we want 200 more.\n",
    "lets do the same steps above but increase our limits"
   ]
  },
  {
   "cell_type": "code",
   "execution_count": 107,
   "id": "5f709949",
   "metadata": {},
   "outputs": [
    {
     "data": {
      "text/html": [
       "<div>\n",
       "<style scoped>\n",
       "    .dataframe tbody tr th:only-of-type {\n",
       "        vertical-align: middle;\n",
       "    }\n",
       "\n",
       "    .dataframe tbody tr th {\n",
       "        vertical-align: top;\n",
       "    }\n",
       "\n",
       "    .dataframe thead th {\n",
       "        text-align: right;\n",
       "    }\n",
       "</style>\n",
       "<table border=\"1\" class=\"dataframe\">\n",
       "  <thead>\n",
       "    <tr style=\"text-align: right;\">\n",
       "      <th></th>\n",
       "      <th>date_posted</th>\n",
       "      <th>tweet</th>\n",
       "    </tr>\n",
       "  </thead>\n",
       "  <tbody>\n",
       "    <tr>\n",
       "      <th>0</th>\n",
       "      <td>2022-07-02 08:45:53+00:00</td>\n",
       "      <td>RT @pattydrewit: “yeah yeah” in @wizkidayo ’s ...</td>\n",
       "    </tr>\n",
       "    <tr>\n",
       "      <th>1</th>\n",
       "      <td>2022-07-01 21:57:49+00:00</td>\n",
       "      <td>Tomorrow!!! @afronation ❤️🖤🦅 https://t.co/0Grj...</td>\n",
       "    </tr>\n",
       "    <tr>\n",
       "      <th>2</th>\n",
       "      <td>2022-06-30 20:27:50+00:00</td>\n",
       "      <td>🌹🦅 https://t.co/ZVNKWHkjwe</td>\n",
       "    </tr>\n",
       "    <tr>\n",
       "      <th>3</th>\n",
       "      <td>2022-06-27 22:31:29+00:00</td>\n",
       "      <td>RT @NativeMag: Big Mood 🦅 @wizkidayo https://t...</td>\n",
       "    </tr>\n",
       "    <tr>\n",
       "      <th>4</th>\n",
       "      <td>2022-06-25 13:24:50+00:00</td>\n",
       "      <td>Rotterdam 🇳🇱 Tonight 10pm https://t.co/Adybh4Mx04</td>\n",
       "    </tr>\n",
       "    <tr>\n",
       "      <th>...</th>\n",
       "      <td>...</td>\n",
       "      <td>...</td>\n",
       "    </tr>\n",
       "    <tr>\n",
       "      <th>193</th>\n",
       "      <td>2021-11-30 14:44:52+00:00</td>\n",
       "      <td>Day 3 Live on StarBoy TV with @youtubemusic ❤️...</td>\n",
       "    </tr>\n",
       "    <tr>\n",
       "      <th>194</th>\n",
       "      <td>2021-11-30 12:27:08+00:00</td>\n",
       "      <td>RT @last_born4L: I think what Big Wiz x DJ Tun...</td>\n",
       "    </tr>\n",
       "    <tr>\n",
       "      <th>195</th>\n",
       "      <td>2021-11-30 12:26:51+00:00</td>\n",
       "      <td>RT @MistaMawz: Enjoyment can’t done! Thank you...</td>\n",
       "    </tr>\n",
       "    <tr>\n",
       "      <th>196</th>\n",
       "      <td>2021-11-30 12:25:18+00:00</td>\n",
       "      <td>RT @MrAlizeOfficial: @wizkidayo United African...</td>\n",
       "    </tr>\n",
       "    <tr>\n",
       "      <th>197</th>\n",
       "      <td>2021-11-30 12:24:04+00:00</td>\n",
       "      <td>RT @Lojaymusic: Massive love to my big brother...</td>\n",
       "    </tr>\n",
       "  </tbody>\n",
       "</table>\n",
       "<p>198 rows × 2 columns</p>\n",
       "</div>"
      ],
      "text/plain": [
       "                  date_posted  \\\n",
       "0   2022-07-02 08:45:53+00:00   \n",
       "1   2022-07-01 21:57:49+00:00   \n",
       "2   2022-06-30 20:27:50+00:00   \n",
       "3   2022-06-27 22:31:29+00:00   \n",
       "4   2022-06-25 13:24:50+00:00   \n",
       "..                        ...   \n",
       "193 2021-11-30 14:44:52+00:00   \n",
       "194 2021-11-30 12:27:08+00:00   \n",
       "195 2021-11-30 12:26:51+00:00   \n",
       "196 2021-11-30 12:25:18+00:00   \n",
       "197 2021-11-30 12:24:04+00:00   \n",
       "\n",
       "                                                 tweet  \n",
       "0    RT @pattydrewit: “yeah yeah” in @wizkidayo ’s ...  \n",
       "1    Tomorrow!!! @afronation ❤️🖤🦅 https://t.co/0Grj...  \n",
       "2                           🌹🦅 https://t.co/ZVNKWHkjwe  \n",
       "3    RT @NativeMag: Big Mood 🦅 @wizkidayo https://t...  \n",
       "4    Rotterdam 🇳🇱 Tonight 10pm https://t.co/Adybh4Mx04  \n",
       "..                                                 ...  \n",
       "193  Day 3 Live on StarBoy TV with @youtubemusic ❤️...  \n",
       "194  RT @last_born4L: I think what Big Wiz x DJ Tun...  \n",
       "195  RT @MistaMawz: Enjoyment can’t done! Thank you...  \n",
       "196  RT @MrAlizeOfficial: @wizkidayo United African...  \n",
       "197  RT @Lojaymusic: Massive love to my big brother...  \n",
       "\n",
       "[198 rows x 2 columns]"
      ]
     },
     "execution_count": 107,
     "metadata": {},
     "output_type": "execute_result"
    }
   ],
   "source": [
    "limit = 300\n",
    "listings=[]\n",
    "tweets = api.user_timeline(screen_name=screen_name, tweet_mode = 'extended', count=limit)\n",
    "for tweet in tweets:\n",
    "    listings.append([tweet.created_at, tweet.full_text])\n",
    "columns=['date_posted', 'tweet']\n",
    "df = pd.DataFrame(data=listings, columns = columns)\n",
    "df"
   ]
  },
  {
   "cell_type": "markdown",
   "id": "6821cea1",
   "metadata": {},
   "source": [
    "## Problem\n",
    ">It turns out we've reached the limit through this method at almost 200 tweets.\n",
    "\n",
    ">In this case we will have to use the **`tweepy.Cursor().items()`** method to get more.\n",
    "### Steps\n",
    "- Asssign the output object to tweet as usual\n",
    "- write the **`tweepy.Cursor().items()`** function to the tweets variable\n",
    "- write the same command we've used all along to get user timeline tweets within  the brackest of `Cursor`\n",
    "- Set the count to 200, since thats the normal max it'll get to but add the limit to the items bracket so it stops at 300\n",
    "- if we want all **3000** possible outcome, we'll remove both specifications for `count` and `limit`"
   ]
  },
  {
   "cell_type": "code",
   "execution_count": 110,
   "id": "ea1b8986",
   "metadata": {},
   "outputs": [
    {
     "data": {
      "text/html": [
       "<div>\n",
       "<style scoped>\n",
       "    .dataframe tbody tr th:only-of-type {\n",
       "        vertical-align: middle;\n",
       "    }\n",
       "\n",
       "    .dataframe tbody tr th {\n",
       "        vertical-align: top;\n",
       "    }\n",
       "\n",
       "    .dataframe thead th {\n",
       "        text-align: right;\n",
       "    }\n",
       "</style>\n",
       "<table border=\"1\" class=\"dataframe\">\n",
       "  <thead>\n",
       "    <tr style=\"text-align: right;\">\n",
       "      <th></th>\n",
       "      <th>date_posted</th>\n",
       "      <th>tweet</th>\n",
       "    </tr>\n",
       "  </thead>\n",
       "  <tbody>\n",
       "    <tr>\n",
       "      <th>0</th>\n",
       "      <td>2022-07-02 08:45:53+00:00</td>\n",
       "      <td>RT @pattydrewit: “yeah yeah” in @wizkidayo ’s ...</td>\n",
       "    </tr>\n",
       "    <tr>\n",
       "      <th>1</th>\n",
       "      <td>2022-07-01 21:57:49+00:00</td>\n",
       "      <td>Tomorrow!!! @afronation ❤️🖤🦅 https://t.co/0Grj...</td>\n",
       "    </tr>\n",
       "    <tr>\n",
       "      <th>2</th>\n",
       "      <td>2022-06-30 20:27:50+00:00</td>\n",
       "      <td>🌹🦅 https://t.co/ZVNKWHkjwe</td>\n",
       "    </tr>\n",
       "    <tr>\n",
       "      <th>3</th>\n",
       "      <td>2022-06-27 22:31:29+00:00</td>\n",
       "      <td>RT @NativeMag: Big Mood 🦅 @wizkidayo https://t...</td>\n",
       "    </tr>\n",
       "    <tr>\n",
       "      <th>4</th>\n",
       "      <td>2022-06-25 13:24:50+00:00</td>\n",
       "      <td>Rotterdam 🇳🇱 Tonight 10pm https://t.co/Adybh4Mx04</td>\n",
       "    </tr>\n",
       "    <tr>\n",
       "      <th>...</th>\n",
       "      <td>...</td>\n",
       "      <td>...</td>\n",
       "    </tr>\n",
       "    <tr>\n",
       "      <th>295</th>\n",
       "      <td>2021-09-27 07:49:29+00:00</td>\n",
       "      <td>LA!! Last night was real special! Love you ❤️🖤...</td>\n",
       "    </tr>\n",
       "    <tr>\n",
       "      <th>296</th>\n",
       "      <td>2021-09-24 12:41:44+00:00</td>\n",
       "      <td>Vegas 📍\\n#ChopVegas @afronation https://t.co/D...</td>\n",
       "    </tr>\n",
       "    <tr>\n",
       "      <th>297</th>\n",
       "      <td>2021-09-23 23:26:00+00:00</td>\n",
       "      <td>I want to #PassTheMic to you. What is making y...</td>\n",
       "    </tr>\n",
       "    <tr>\n",
       "      <th>298</th>\n",
       "      <td>2021-09-23 12:06:00+00:00</td>\n",
       "      <td>#PasstheMic @TommyHilfiger \\n🖤❤️🦅 https://t.co...</td>\n",
       "    </tr>\n",
       "    <tr>\n",
       "      <th>299</th>\n",
       "      <td>2021-09-22 21:44:16+00:00</td>\n",
       "      <td>Sacramento next week! Oct 2! 🖤❤️🦅 https://t.co...</td>\n",
       "    </tr>\n",
       "  </tbody>\n",
       "</table>\n",
       "<p>300 rows × 2 columns</p>\n",
       "</div>"
      ],
      "text/plain": [
       "                  date_posted  \\\n",
       "0   2022-07-02 08:45:53+00:00   \n",
       "1   2022-07-01 21:57:49+00:00   \n",
       "2   2022-06-30 20:27:50+00:00   \n",
       "3   2022-06-27 22:31:29+00:00   \n",
       "4   2022-06-25 13:24:50+00:00   \n",
       "..                        ...   \n",
       "295 2021-09-27 07:49:29+00:00   \n",
       "296 2021-09-24 12:41:44+00:00   \n",
       "297 2021-09-23 23:26:00+00:00   \n",
       "298 2021-09-23 12:06:00+00:00   \n",
       "299 2021-09-22 21:44:16+00:00   \n",
       "\n",
       "                                                 tweet  \n",
       "0    RT @pattydrewit: “yeah yeah” in @wizkidayo ’s ...  \n",
       "1    Tomorrow!!! @afronation ❤️🖤🦅 https://t.co/0Grj...  \n",
       "2                           🌹🦅 https://t.co/ZVNKWHkjwe  \n",
       "3    RT @NativeMag: Big Mood 🦅 @wizkidayo https://t...  \n",
       "4    Rotterdam 🇳🇱 Tonight 10pm https://t.co/Adybh4Mx04  \n",
       "..                                                 ...  \n",
       "295  LA!! Last night was real special! Love you ❤️🖤...  \n",
       "296  Vegas 📍\\n#ChopVegas @afronation https://t.co/D...  \n",
       "297  I want to #PassTheMic to you. What is making y...  \n",
       "298  #PasstheMic @TommyHilfiger \\n🖤❤️🦅 https://t.co...  \n",
       "299  Sacramento next week! Oct 2! 🖤❤️🦅 https://t.co...  \n",
       "\n",
       "[300 rows x 2 columns]"
      ]
     },
     "execution_count": 110,
     "metadata": {},
     "output_type": "execute_result"
    }
   ],
   "source": [
    "limit = 300\n",
    "listi=[]\n",
    "tweets = tweepy.Cursor(api.user_timeline, screen_name=screen_name, count = 200, tweet_mode='extended').items(limit)\n",
    "for tweet in tweets:\n",
    "    listi.append([tweet.created_at, tweet.full_text])\n",
    "    \n",
    "columns = ['date_posted', 'tweet']\n",
    "df = pd.DataFrame(data=listi, columns=columns)\n",
    "df"
   ]
  },
  {
   "cell_type": "markdown",
   "id": "9362bdf6",
   "metadata": {},
   "source": [
    "### And.... that's it!!\n",
    "we have all 300 rows we wanted\n",
    ">Now lets add the numbr of retweet and likes each one got"
   ]
  },
  {
   "cell_type": "code",
   "execution_count": 112,
   "id": "3c863790",
   "metadata": {},
   "outputs": [
    {
     "data": {
      "text/html": [
       "<div>\n",
       "<style scoped>\n",
       "    .dataframe tbody tr th:only-of-type {\n",
       "        vertical-align: middle;\n",
       "    }\n",
       "\n",
       "    .dataframe tbody tr th {\n",
       "        vertical-align: top;\n",
       "    }\n",
       "\n",
       "    .dataframe thead th {\n",
       "        text-align: right;\n",
       "    }\n",
       "</style>\n",
       "<table border=\"1\" class=\"dataframe\">\n",
       "  <thead>\n",
       "    <tr style=\"text-align: right;\">\n",
       "      <th></th>\n",
       "      <th>date_posted</th>\n",
       "      <th>tweet</th>\n",
       "      <th>favorite_count</th>\n",
       "      <th>retweet_count</th>\n",
       "    </tr>\n",
       "  </thead>\n",
       "  <tbody>\n",
       "    <tr>\n",
       "      <th>0</th>\n",
       "      <td>2022-07-02 08:45:53+00:00</td>\n",
       "      <td>RT @pattydrewit: “yeah yeah” in @wizkidayo ’s ...</td>\n",
       "      <td>0</td>\n",
       "      <td>835</td>\n",
       "    </tr>\n",
       "    <tr>\n",
       "      <th>1</th>\n",
       "      <td>2022-07-01 21:57:49+00:00</td>\n",
       "      <td>Tomorrow!!! @afronation ❤️🖤🦅 https://t.co/0Grj...</td>\n",
       "      <td>19523</td>\n",
       "      <td>3710</td>\n",
       "    </tr>\n",
       "    <tr>\n",
       "      <th>2</th>\n",
       "      <td>2022-06-30 20:27:50+00:00</td>\n",
       "      <td>🌹🦅 https://t.co/ZVNKWHkjwe</td>\n",
       "      <td>29915</td>\n",
       "      <td>7730</td>\n",
       "    </tr>\n",
       "    <tr>\n",
       "      <th>3</th>\n",
       "      <td>2022-06-27 22:31:29+00:00</td>\n",
       "      <td>RT @NativeMag: Big Mood 🦅 @wizkidayo https://t...</td>\n",
       "      <td>0</td>\n",
       "      <td>2057</td>\n",
       "    </tr>\n",
       "    <tr>\n",
       "      <th>4</th>\n",
       "      <td>2022-06-25 13:24:50+00:00</td>\n",
       "      <td>Rotterdam 🇳🇱 Tonight 10pm https://t.co/Adybh4Mx04</td>\n",
       "      <td>22948</td>\n",
       "      <td>4118</td>\n",
       "    </tr>\n",
       "    <tr>\n",
       "      <th>...</th>\n",
       "      <td>...</td>\n",
       "      <td>...</td>\n",
       "      <td>...</td>\n",
       "      <td>...</td>\n",
       "    </tr>\n",
       "    <tr>\n",
       "      <th>295</th>\n",
       "      <td>2021-09-27 07:49:29+00:00</td>\n",
       "      <td>LA!! Last night was real special! Love you ❤️🖤...</td>\n",
       "      <td>37035</td>\n",
       "      <td>5652</td>\n",
       "    </tr>\n",
       "    <tr>\n",
       "      <th>296</th>\n",
       "      <td>2021-09-24 12:41:44+00:00</td>\n",
       "      <td>Vegas 📍\\n#ChopVegas @afronation https://t.co/D...</td>\n",
       "      <td>11562</td>\n",
       "      <td>2085</td>\n",
       "    </tr>\n",
       "    <tr>\n",
       "      <th>297</th>\n",
       "      <td>2021-09-23 23:26:00+00:00</td>\n",
       "      <td>I want to #PassTheMic to you. What is making y...</td>\n",
       "      <td>16341</td>\n",
       "      <td>3778</td>\n",
       "    </tr>\n",
       "    <tr>\n",
       "      <th>298</th>\n",
       "      <td>2021-09-23 12:06:00+00:00</td>\n",
       "      <td>#PasstheMic @TommyHilfiger \\n🖤❤️🦅 https://t.co...</td>\n",
       "      <td>15275</td>\n",
       "      <td>4319</td>\n",
       "    </tr>\n",
       "    <tr>\n",
       "      <th>299</th>\n",
       "      <td>2021-09-22 21:44:16+00:00</td>\n",
       "      <td>Sacramento next week! Oct 2! 🖤❤️🦅 https://t.co...</td>\n",
       "      <td>16781</td>\n",
       "      <td>3083</td>\n",
       "    </tr>\n",
       "  </tbody>\n",
       "</table>\n",
       "<p>300 rows × 4 columns</p>\n",
       "</div>"
      ],
      "text/plain": [
       "                  date_posted  \\\n",
       "0   2022-07-02 08:45:53+00:00   \n",
       "1   2022-07-01 21:57:49+00:00   \n",
       "2   2022-06-30 20:27:50+00:00   \n",
       "3   2022-06-27 22:31:29+00:00   \n",
       "4   2022-06-25 13:24:50+00:00   \n",
       "..                        ...   \n",
       "295 2021-09-27 07:49:29+00:00   \n",
       "296 2021-09-24 12:41:44+00:00   \n",
       "297 2021-09-23 23:26:00+00:00   \n",
       "298 2021-09-23 12:06:00+00:00   \n",
       "299 2021-09-22 21:44:16+00:00   \n",
       "\n",
       "                                                 tweet  favorite_count  \\\n",
       "0    RT @pattydrewit: “yeah yeah” in @wizkidayo ’s ...               0   \n",
       "1    Tomorrow!!! @afronation ❤️🖤🦅 https://t.co/0Grj...           19523   \n",
       "2                           🌹🦅 https://t.co/ZVNKWHkjwe           29915   \n",
       "3    RT @NativeMag: Big Mood 🦅 @wizkidayo https://t...               0   \n",
       "4    Rotterdam 🇳🇱 Tonight 10pm https://t.co/Adybh4Mx04           22948   \n",
       "..                                                 ...             ...   \n",
       "295  LA!! Last night was real special! Love you ❤️🖤...           37035   \n",
       "296  Vegas 📍\\n#ChopVegas @afronation https://t.co/D...           11562   \n",
       "297  I want to #PassTheMic to you. What is making y...           16341   \n",
       "298  #PasstheMic @TommyHilfiger \\n🖤❤️🦅 https://t.co...           15275   \n",
       "299  Sacramento next week! Oct 2! 🖤❤️🦅 https://t.co...           16781   \n",
       "\n",
       "     retweet_count  \n",
       "0              835  \n",
       "1             3710  \n",
       "2             7730  \n",
       "3             2057  \n",
       "4             4118  \n",
       "..             ...  \n",
       "295           5652  \n",
       "296           2085  \n",
       "297           3778  \n",
       "298           4319  \n",
       "299           3083  \n",
       "\n",
       "[300 rows x 4 columns]"
      ]
     },
     "execution_count": 112,
     "metadata": {},
     "output_type": "execute_result"
    }
   ],
   "source": [
    "limit = 300\n",
    "listi=[]\n",
    "tweets = tweepy.Cursor(api.user_timeline, screen_name=screen_name, count = 200, tweet_mode='extended').items(limit)\n",
    "for tweet in tweets:\n",
    "    listi.append([tweet.created_at, tweet.full_text, tweet.favorite_count, tweet.retweet_count])\n",
    "    \n",
    "columns = ['date_posted', 'tweet', 'favorite_count', 'retweet_count']\n",
    "df = pd.DataFrame(data=listi, columns=columns)\n",
    "df"
   ]
  },
  {
   "cell_type": "code",
   "execution_count": null,
   "id": "5682216d",
   "metadata": {},
   "outputs": [],
   "source": [
    "import json\n",
    "json_file = ''\n",
    "with open('.txt', 'a') as file:\n",
    "    file.append('\\n'+json_string)"
   ]
  }
 ],
 "metadata": {
  "kernelspec": {
   "display_name": "Python 3 (ipykernel)",
   "language": "python",
   "name": "python3"
  },
  "language_info": {
   "codemirror_mode": {
    "name": "ipython",
    "version": 3
   },
   "file_extension": ".py",
   "mimetype": "text/x-python",
   "name": "python",
   "nbconvert_exporter": "python",
   "pygments_lexer": "ipython3",
   "version": "3.9.7"
  }
 },
 "nbformat": 4,
 "nbformat_minor": 5
}
